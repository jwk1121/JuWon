{
 "cells": [
  {
   "cell_type": "raw",
   "metadata": {},
   "source": [
    "---\n",
    "title: Discrete time Fourier transform (이산 시간 푸리에 변환) \n",
    "categories:\n",
    "    - DSP\n",
    "author: JuWon\n",
    "date: 02/01/2024\n",
    "---"
   ]
  },
  {
   "cell_type": "markdown",
   "metadata": {},
   "source": [
    "# 이산 시간 푸리에 변환\n",
    "이번 포스트에서는 이산 시간 푸리에 변환(Discrete time fourier transform; DTFT)을 유도 및 예제에 대해 정리할 예정이다.  \n",
    "\n",
    "## DTFT & IDTFT 유도  \n",
    "[앞 장](https://juwonk-bme.netlify.app/docs/bme/posts/dsp2)에서 다뤘듯 $\\displaystyle C_k = \\frac{1}{N}\\sum_{n=<N>}x_N[n]e^{-jk\\Omega_0n}$인것을 확인할 수 있었다. *여기서 $x_N[n]$은 주기가 N인 신호를 의미*   \n",
    "여기서 $N \\to \\infty$을 취하면 $x_N[n]$은 비주기 함수인 $x[n]$이 된다. 이러한 특성을 사용하여 DTFT를 아래와 같은 과정을 통해 유도할 수 있다.  \n",
    "$$C_k = \\frac{1}{N}\\sum_{n=<N>}x_N[n]e^{-jk\\Omega_0n}$$  \n",
    "$$\\lim_{N \\to \\infty}N\\cdot C_k = \\lim_{N \\to \\infty}\\sum_{n=<N>}x_N[n]e^{-jk\\Omega_0n}$$\n",
    "여기에서 $\\displaystyle\\lim_{N \\to \\infty}N\\cdot C_k = X(\\Omega)$이고 $\\displaystyle\\lim_{N \\to \\infty}k\\Omega_0 = \\Omega$ 이다. 여기에서 $k$는 $0$ ~ $N-1$의 정수이므로 $\\displaystyle\\lim_{N \\to \\infty}k\\frac{2\\pi}{N}=\\Omega$는 0 ~ 2$\\pi$의 값을 갖게 된다.\n",
    "$$\\therefore X(\\Omega)= \\sum_{n=-\\infty}^{\\infty}x[n]e^{-j\\Omega n}$$  \n",
    "\n",
    "---  \n",
    "\n",
    "IDTFT도 DTFT와 마찬가지로 DTFS를 통해 유도가 가능하다.  \n",
    "$$\\lim_{N \\to \\infty}x_N[n] =x[n] = \\lim_{N \\to \\infty}\\frac{1}{2\\pi}\\sum_{k=<N>}NC_ke^{-jk\\cdot2\\pi/N\\cdot n}\\frac{2\\pi}{N}$$  \n",
    "여기에서 $\\displaystyle\\lim_{N\\to\\infty}\\frac{2\\pi}{N}=d\\Omega$이므로 $\\displaystyle\\lim_{N \\to \\infty}\\sum_{k=<N>}\\frac{2\\pi}{N} \\to \\int_{-\\infty}^{\\infty}\\cdots d\\Omega$로 표현할 수 있다.\n",
    "$$\\therefore \\; x[n] = \\frac{1}{2\\pi}\\int_{<2\\pi>}X(\\Omega)e^{j\\Omega n} d\\Omega$$  \n",
    "\n",
    "### $X(\\Omega)$의 주기성  \n",
    "$X(\\Omega)$는 $2\\pi$가 주기인 주기함수이다. 이는 아래의 수식을 통해 증명 가능하다.  \n",
    "$$X(\\Omega + 2\\pi) = \\sum_{-\\infty}^{\\infty}x[n]e^{-j\\Omega n}e^{-j2\\pi n}=\\sum_{-\\infty}^{\\infty}x[n]e^{-j\\Omega n} = X(\\Omega)$$\n",
    "\n",
    "### DTFT 예제\n",
    "#### 1. Rectangular Pulse    \n",
    "<div style=\"text-align:center\"><img src=\"img/dsp3_1.png\" width=\"300\" height=\"200\" /></div>  \n",
    "\n",
    "**DT Aperiodic Rectangular Pulse**를 DTFT하면 아래와 같은 결과가 나온다.  \n",
    "$\\displaystyle X(\\Omega) = \\sum_{n=-L}^{L}e^{-j\\Omega n}$, $\\;\\;X(\\Omega)$가 다음과 같을 때 $\\Omega$가 0일 때와 아닐때를 구분하여 정리하면 다음과 같다.  \n",
    "- $\\Omega = 0$일때는 $X(0) = 2L + 1$  \n",
    "- $\\Omega \\neq 0$인 경우 $\\displaystyle X(\\Omega) = \\sum_{n=-L}^{L}e^{-j\\Omega n}$으로 이를 등비급수를 사용하여 정리하면 초항$(a)$은 $e^{j\\Omega n}$이고, 공비$(r)$는 $e^{-j\\Omega}$이다. $\\;\\;\\therefore \\; \\displaystyle X(\\Omega) =\\frac{sin(\\Omega\\cdot(2L+1)/2)}{sin(\\Omega/2)}$  \n",
    "\n",
    "DTFS의 $C_k$ 달리 DTFT의 결과$X(\\Omega)$는 연속 신호인 것을 확인할 수 있다.  \n",
    "\n",
    "#### 2. Sinusoidal Pulse  \n",
    "sin, cos과 같은 신호를 DTFT 공식에 대입하여 주파수 스펙트럼을 얻는 것은 쉽지 않다. 이럴 때에는 DTFT의 특성을 사용하면 비교적 쉽게 풀 수 있다. DTFT의 특성은 [CTFT의 특성](https://juwonk-bme.netlify.app/docs/bme/posts/ss5#frequency-shifting)과 매우 유사므로 이를 참고하여 푸리에 변환을 진행하면 된다.  \n",
    "\n",
    "만약 $x[n] = \\text{cos}[\\frac{\\pi}{3}n]$일 때 $F(\\Omega)$는 주파수 이동 성질을 사용하면 비교적 쉽게 풀 수 있다.  \n",
    "$$x[n] = \\text{cos}[\\frac{\\pi}{3}n]= \\frac{1}{2}(e^{j\\frac{\\pi}{3}n} + e^{-j\\frac{\\pi}{3}n})$$  \n",
    "여기서 $x_1[n] = 1/2\\cdot e^{j\\frac{\\pi}{3}n}, \\; x_2[n] = 1/2 \\cdot e^{-j\\frac{\\pi}{3}n}$로 생각하고 DTFT를 진행하면 이는 주파수 이동 성질을 사용할 수 있는 꼴이 된다.  \n",
    "$$X_1(\\Omega) = \\sum_{m=-\\infty}^{\\infty}\\pi\\delta(\\Omega-\\frac{\\pi}{3}-2\\pi m)$$  \n",
    "$$X_2(\\Omega) = \\sum_{m=-\\infty}^{\\infty}\\pi\\delta(\\Omega+\\frac{\\pi}{3}-2\\pi m)$$  \n",
    "\n",
    "\n",
    "> 주파수 도메인에서의 상수를 IDFTF했을 때의 결과를 정리하면 다음과 같다.  \n",
    "> $$ X(\\Omega) = \\sum_{m=-\\infty}^{\\infty}\\delta(\\Omega-2\\pi m)\\to x[n] = \\frac{1}{2\\pi}\\int_{2\\pi}X(\\Omega)e^{j\\Omega n} d\\Omega$$  \n",
    "> $$x[n] = \\frac{1}{2\\pi}\\int_{-\\pi}^{\\pi}\\left(\\sum_{m=-\\infty}^{\\infty}\\delta(\\Omega-2\\pi m)\\right)e^{j\\Omega n} d\\Omega$$  \n",
    "> $$x[n]= \\frac{1}{2\\pi}\\int_{-\\pi}^{\\pi}\\delta(\\Omega)e^{j\\Omega n} d\\Omega = \\frac{1}{2\\pi}e^{j0n} = \\frac{1}{2\\pi}$$\n",
    "> $$1 \\;\\xleftrightarrow{\\quad\\mathcal{DTFT}\\quad}\\;\\sum_{m=-\\infty}^{\\infty}2\\pi\\delta(\\Omega-2\\pi m)$$  \n",
    "> <div style=\"text-align:center\"><img src=\"img/dsp3_2.png\" width=\"500\" height=\"300\" /></div>  \n",
    "\n",
    "\n",
    "## 푸리에 변환 정리  \n",
    "이산 시간과 연속 시간 푸리에 변환에 대해 간단히 정리하면 `CADP`이다. CADP를 사용하면 신호를 푸리에 변환하였을 때 주파수 도메인 또는 시간 도메인에서 어떠한 형태인지 쉽게 알 수 있다.  \n",
    "\n",
    "> $C$(continuous) $\\;\\xleftrightarrow{\\quad\\mathcal{F}\\quad}\\; A$(Aperiodic)  \n",
    "> $D$(discrete)$\\;\\xleftrightarrow{\\quad\\mathcal{F}\\quad}\\;$ P(Periodic)  \n",
    "\n",
    "만약 시간 도메인에서 이산 비주기 신호(DA)를 푸리에 변환하게 되면 주파수 도메인에서 연속 주기 신호(CP)임을 쉽게 알 수 있다.\n"
   ]
  }
 ],
 "metadata": {
  "language_info": {
   "name": "python"
  }
 },
 "nbformat": 4,
 "nbformat_minor": 2
}
