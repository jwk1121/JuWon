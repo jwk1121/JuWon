{
 "cells": [
  {
   "cell_type": "raw",
   "metadata": {},
   "source": [
    "---\n",
    "title: Laplace Transform\n",
    "categories:\n",
    "    - signal and system\n",
    "author: JuWon\n",
    "date: 01/15/2024\n",
    "---"
   ]
  },
  {
   "cell_type": "markdown",
   "metadata": {},
   "source": [
    "# Laplace Transform  \n",
    "이번 포스트에서는 단방향 라플라스 변환과 ROC에 대해 다룰 예정이다.  \n",
    "공업 수학에서 배웠듯이 라플라스 변환은 복잡한 미분방정식(ODE)을 풀 때 유용하다. \n",
    "\n",
    "## Idea for Laplace Transform  \n",
    "라플라스 변환에 대해서 설명하기 위해서는 양방향 라플라스 변환을 사용하여야 한다. 양방향 라플라스 변환 공식은 다음과 같다.  \n",
    "$$H(s) = \\mathcal{L}[h(t)] = \\int_{-\\infty}^{\\infty}h(t)e^{-st}dt = \\int_{-\\infty}^{\\infty}h(t)e^{-(\\sigma + j\\omega)t}dt(\\because \\;\\; s = \\sigma + j\\omega)$$  \n",
    "식의 형태를 보면 푸리에 변환과 식의 형태가 유사한 것을 알 수 있다.  \n",
    "라플라스 변환은 발산하는 신호($h(t)$)를 $e^{-\\alpha t}$를 사용해 발산하지 않도록 한 후 푸리에 변환을 하는 것이다.  \n",
    "즉, 푸리에 변환의 한계를 보완한 것이라고 생각하면 된다.  \n",
    "\n",
    "## Region of convergence(ROC; 수렴영역)  \n",
    "앞서 말했듯 라플라스 변환에서는 $e^{-st}$를 사용하여 발산하지 않도록 조정한다. 신호가 수렴하도록 하는 적절한 s의 실수부, $Re[s] = \\sigma$의 범위를 ROC라고 한다.  \n",
    "\n",
    "### Example of ROC  \n",
    "unit step function을 라플라스 변환했을때의 ROC를 계산해보도록 하겠다. 우선 $u(t)$를 단방향 라플라스 변환하는 과정은 아래와 같다.  \n",
    "$$\\mathcal{L}[u(t)] = \\int_{0}^{\\infty}u(t)e^{-st}dt = \\int_{0}^{\\infty}e^{-st}dt = \\left[-\\frac{e^{-st}}{s}\\right]^{\\infty}_{0}$$\n",
    "여기서 적분 결과가 수렴하기 위해서는 $e^{-s\\infty} \\to 0$이어야 한다. 그러므로 ROC는 $Re[s]>0$이다. \n",
    "\n",
    "## pole and zero  \n",
    "* pole: H(s)가 발산하도록 하는 s  \n",
    "  * $\\displaystyle H(s) = \\frac{e^{s-3}}{s-3}$일 때의 pole은 $s = 3 \\; or \\; s= \\infty$  \n",
    "* zero: H(s)가 수렴하도록 하는 s  \n",
    "  * $\\displaystyle H(s) = \\frac{e^{s-3}}{s-3}$일 때의 zero는 pole이 아닌 수 "
   ]
  }
 ],
 "metadata": {
  "language_info": {
   "name": "python"
  }
 },
 "nbformat": 4,
 "nbformat_minor": 2
}
