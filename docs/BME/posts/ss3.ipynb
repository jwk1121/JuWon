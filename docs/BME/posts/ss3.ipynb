{
 "cells": [
  {
   "cell_type": "raw",
   "metadata": {},
   "source": [
    "---\n",
    "title: Convolution (CT)\n",
    "categories:\n",
    "    - signal and system\n",
    "author: JuWon\n",
    "date: 11/13/2023\n",
    "---"
   ]
  },
  {
   "cell_type": "markdown",
   "metadata": {},
   "source": [
    "# 연속 시간 시스템에서의 Convolution  \n",
    "이번 포스트에서는 연속 시간 LTI system에서의 Convolution에 대해 설명할 것이다.  \n",
    "\n",
    "## Convolution Integral \n",
    "\n",
    "### Impulse representaion  \n",
    "\n",
    "$$\\int_{-\\infty}^{\\infty}x(\\tau)\\delta(t-\\tau) d\\tau \\overset{sifting}\\to \\int_{-\\infty}^{\\infty}x(t)\\delta(t-\\tau) d\\tau$$  \n",
    "$$\\to x(t)\\int_{-\\infty}^{\\infty}\\delta(t-\\tau) d\\tau = x(t)$$  \n",
    "\n",
    "### unit impulse response\n",
    "\n",
    "$$x(t) = \\delta(t) \\to [LTI \\; system]\\to y(t) = h(t)$$\n",
    "$$\\delta(t) \\to h(t)$$  \n",
    "\n",
    "여기서 $\\delta(t)$는 임펄스 함수(impulse function), $h(t)$는 **임펄스 응답(impulse response)** 을 의미한다.  \n",
    "\n",
    "* Time-invariant에 의해 $\\delta(t-t_0) \\to h(t-t_0)$  \n",
    "* Linear에 의해 $\\displaystyle\\sum_{k =0}^{\\infty}\\Delta\\delta(t-k\\Delta) \\to \\sum_{k =0}^{\\infty}\\Delta h(t-k\\Delta)$  \n",
    "\n",
    "\n",
    "### Convolution Integral 증명 \n",
    "$$x(t) = \\sum_{k = -\\infty}^{\\infty}v(k\\Delta)\\delta(t-k\\Delta) \\Delta \\overset{LTI \\; system}\\to y(t) = \\sum_{k =0}^{\\infty}v(k\\Delta) h(t-k\\Delta) \\Delta$$  \n",
    "$$\\overset{\\Delta \\to 0}\\downarrow$$  \n",
    "$$\\lim_{\\Delta \\to 0}\\sum_{k = -\\infty}^{\\infty}v(k\\Delta)\\delta(t-k\\Delta) \\Delta \\overset{LTI \\; system}\\to \\lim_{\\Delta \\to 0}\\sum_{k =0}^{\\infty}v(k\\Delta) h(t-k\\Delta) \\Delta$$  \n",
    "$$\\downarrow$$  \n",
    "$$x(t) = \\int_{-\\infty}^{\\infty}v(\\tau)\\delta(t-\\tau)d\\tau = v(t) \\overset{LTI \\; system}\\to y(t) = \\int_{-\\infty}^{\\infty}v(\\tau)h(t-\\tau)d\\tau$$  \n",
    "$$\\downarrow$$  \n",
    "$$\\therefore \\; y(t) = \\int_{-\\infty}^{\\infty}x(\\tau)h(t-\\tau)d\\tau = x(t) * h(t)$$\n",
    "\n",
    "**위 식을 통해 알 수 있는 것은 임펄스 응답$h(t)$와 입력 신호$x(t)$를 컨볼루션한다면 출력 $y(t)$를 알 수 있다는 것이다. 즉, $h(t)$에는 시스템에 대한 모든 정보가 담겨 있는 것을 의미한다.**\n",
    "\n",
    "### properties of convolution integral  \n",
    "\n",
    "* $y(t) = \\displaystyle\\int_{-\\infty}^{\\infty}x(\\tau)h(t-\\tau)d\\tau = \\int_{-\\infty}^{\\infty}x(t-\\tau)h(\\tau)d\\tau$  \n",
    "  \n",
    "* $\\delta(t) * h(t) = h(t)$  \n",
    "\n",
    "* $\\delta(t-t_0) * h(t) = h(t-t_0)\\qquad \\because time-invariant$\n",
    "\n",
    "### unit step response  \n",
    "$$\\delta(t) \\to [LTI \\; system] \\to h(t)$$  \n",
    "$$\\overset{적분}\\downarrow\\underset{미분}\\uparrow \\qquad\\qquad\\qquad\\quad\\; \\overset{적분}\\downarrow\\underset{미분}\\uparrow$$  \n",
    "$$u(t) \\to [LTI \\; system] \\to s(t)$$\n",
    "\n",
    "만약 unit impulse response $h(t) = e^{-3t}u(t)$라면 unit step response $s(t)$는 아래와 같은 식을 통해 알 수 있다.\n",
    "\n",
    "$$s(t) = \\int^{t}_{0}h(\\tau)d\\tau = \\int^{t}_{0} e^{-3t}d\\tau = \\frac{1}{3}(1- e^{-3t})u(t)$$\n",
    "\n",
    "반대로 $s(t)$를 미분하더라도 $h(t)$를 얻을 수 있음."
   ]
  }
 ],
 "metadata": {
  "language_info": {
   "name": "python"
  }
 },
 "nbformat": 4,
 "nbformat_minor": 2
}
