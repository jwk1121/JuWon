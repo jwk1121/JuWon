{
 "cells": [
  {
   "cell_type": "raw",
   "metadata": {},
   "source": [
    "---\n",
    "title: 신호 및 시스템에 들어가기 앞선 기본 개념\n",
    "categories:\n",
    "    - signal and system\n",
    "author: JuWon\n",
    "date: 11/10/2023\n",
    "---"
   ]
  },
  {
   "cell_type": "markdown",
   "metadata": {},
   "source": [
    "# 신호 및 시스템에 들어가기 앞선 기본 개념  \n",
    "\n",
    "## 오일러 공식  \n",
    "오일러 공식은 가장 많이 사용되고 기본으로 사용되는 공식이므로 반드시 개념을 잘 이해하고 암기해야 한다.  \n",
    "<p align=\"center\"><img src=\"img/sp0_1.png\" width=300 height=300 />  \n",
    "\n",
    "위 그림에서 x축을 실수 축이라고 생각하고 y축을 허수 축이라고 생각하면 z는 아래와 같다.    \n",
    "$$(x,y) = z = cos(\\theta) + j sin(\\theta)$$  \n",
    "위 식에서는 z를 삼각함수를 사용하여 표현하였는데 이를 exponential form으로 표현하기 위해서는 오일러 공식을 사용해야 한다.  \n",
    "\n",
    "### 오일러 공식 유도  \n",
    "$$z = cos(\\theta) + j sin(\\theta)$$  \n",
    "$$z' = -sin(\\theta) + j cos(\\theta) = j^2sin(\\theta) + j cos(\\theta)$$  \n",
    "$$= j(cos(\\theta) + j sin(\\theta)) = j z$$  \n",
    "즉 z를 미분하면 z에 허수를 곱한 형태가 나오게 된다.  \n",
    "\n",
    "여기에서 다시 양변을 적분하게 되면  \n",
    "$$z' = \\frac{dz}{d\\theta} = jz \\to \\frac{1}{z}dz= jd\\theta$$  \n",
    "$$\\overset{\\int}\\to \\int \\frac{1}{z}dz = \\int j d\\theta$$  \n",
    "$$\\to ln(z) = j\\theta + C$$\n",
    "$$(if) \\theta = 0 \\to ln(z) = C \\to e^{C} = z = cos(0) + j sin(0) = 1$$  \n",
    "$$\\to C = 0$$  \n",
    "$$\\therefore ln(z) = j\\theta \\to z = e^{j\\theta}$$  \n",
    "이와 같은 과정을 통해 오일러 공식이 유도된다.\n",
    "\n",
    "#### 오일러 공식 예시  \n",
    "ex. complex form인 $z$를 polar coordinate system과 exponential form으로 표현하라.  \n",
    "$$z = 2 + 3j$$  \n",
    "$$|z| = \\sqrt{2^2 + 3^2} = 5$$\n",
    "$$\\theta = tan^{-1}(\\frac{y}{x}) = tan^{-1}(\\frac{3}{2}) \\approx 56.3^\\circ$$  \n",
    "$$\\therefore z = |z|\\angle\\theta = 5 \\angle56^\\circ(polar coordinate)$$  \n",
    "$$\\therefore z = |z|e^{j\\theta} = 5e^{j0.3\\pi}(exponential form)$$\n",
    "\n",
    "### 오일러 공식과 관련된 중요 공식  \n",
    "$$e^{j\\theta} = cos(\\theta) + jsin(\\theta)$$  \n",
    "$$sin(\\theta) = \\frac{e^{j\\theta} - e^{-j\\theta}}{2j}$$  \n",
    "$$cos(\\theta) = \\frac{e^{j\\theta} + e^{-j\\theta}}{2}$$\n"
   ]
  }
 ],
 "metadata": {
  "language_info": {
   "name": "python"
  }
 },
 "nbformat": 4,
 "nbformat_minor": 2
}
